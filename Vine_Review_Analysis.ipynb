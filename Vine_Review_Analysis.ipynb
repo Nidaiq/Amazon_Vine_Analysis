{
 "cells": [
  {
   "cell_type": "code",
   "execution_count": 1,
   "metadata": {
    "colab": {
     "base_uri": "https://localhost:8080/"
    },
    "id": "V58rxea0HqSa",
    "outputId": "4b4ce24b-6cd8-482d-befe-327923bb7186"
   },
   "outputs": [
    {
     "name": "stdout",
     "output_type": "stream",
     "text": [
      "Get:1 http://security.ubuntu.com/ubuntu bionic-security InRelease [88.7 kB]\n",
      "Ign:2 https://developer.download.nvidia.com/compute/cuda/repos/ubuntu1804/x86_64  InRelease\n",
      "Ign:3 https://developer.download.nvidia.com/compute/machine-learning/repos/ubuntu1804/x86_64  InRelease\n",
      "Get:4 http://ppa.launchpad.net/c2d4u.team/c2d4u4.0+/ubuntu bionic InRelease [15.9 kB]\n",
      "Get:5 https://developer.download.nvidia.com/compute/cuda/repos/ubuntu1804/x86_64  Release [697 B]\n",
      "Hit:6 http://archive.ubuntu.com/ubuntu bionic InRelease\n",
      "Hit:7 https://developer.download.nvidia.com/compute/machine-learning/repos/ubuntu1804/x86_64  Release\n",
      "Get:8 https://developer.download.nvidia.com/compute/cuda/repos/ubuntu1804/x86_64  Release.gpg [836 B]\n",
      "Get:9 http://archive.ubuntu.com/ubuntu bionic-updates InRelease [88.7 kB]\n",
      "Get:10 https://cloud.r-project.org/bin/linux/ubuntu bionic-cran40/ InRelease [3,626 B]\n",
      "Get:11 http://security.ubuntu.com/ubuntu bionic-security/restricted amd64 Packages [450 kB]\n",
      "Hit:12 http://ppa.launchpad.net/cran/libgit2/ubuntu bionic InRelease\n",
      "Get:13 http://security.ubuntu.com/ubuntu bionic-security/main amd64 Packages [2,185 kB]\n",
      "Get:14 http://archive.ubuntu.com/ubuntu bionic-backports InRelease [74.6 kB]\n",
      "Get:15 http://ppa.launchpad.net/deadsnakes/ppa/ubuntu bionic InRelease [15.9 kB]\n",
      "Get:16 http://security.ubuntu.com/ubuntu bionic-security/universe amd64 Packages [1,415 kB]\n",
      "Get:17 http://ppa.launchpad.net/graphics-drivers/ppa/ubuntu bionic InRelease [21.3 kB]\n",
      "Ign:19 https://developer.download.nvidia.com/compute/cuda/repos/ubuntu1804/x86_64  Packages\n",
      "Get:19 https://developer.download.nvidia.com/compute/cuda/repos/ubuntu1804/x86_64  Packages [800 kB]\n",
      "Get:20 http://ppa.launchpad.net/c2d4u.team/c2d4u4.0+/ubuntu bionic/main Sources [1,772 kB]\n",
      "Get:21 https://cloud.r-project.org/bin/linux/ubuntu bionic-cran40/ Packages [61.8 kB]\n",
      "Get:22 http://archive.ubuntu.com/ubuntu bionic-updates/multiverse amd64 Packages [33.5 kB]\n",
      "Get:23 http://archive.ubuntu.com/ubuntu bionic-updates/restricted amd64 Packages [481 kB]\n",
      "Get:24 http://ppa.launchpad.net/c2d4u.team/c2d4u4.0+/ubuntu bionic/main amd64 Packages [906 kB]\n",
      "Get:25 http://archive.ubuntu.com/ubuntu bionic-updates/main amd64 Packages [2,619 kB]\n",
      "Get:26 http://archive.ubuntu.com/ubuntu bionic-updates/universe amd64 Packages [2,184 kB]\n",
      "Get:27 http://ppa.launchpad.net/deadsnakes/ppa/ubuntu bionic/main amd64 Packages [40.9 kB]\n",
      "Get:28 http://ppa.launchpad.net/graphics-drivers/ppa/ubuntu bionic/main amd64 Packages [41.6 kB]\n",
      "Fetched 13.3 MB in 4s (3,572 kB/s)\n",
      "Reading package lists... Done\n"
     ]
    }
   ],
   "source": [
    "import os\n",
    "# Find the latest version of spark 2.0  from http://www-us.apache.org/dist/spark/ and enter as the spark version\n",
    "# For example:\n",
    "# spark_version = 'spark-3.0.0'\n",
    "spark_version = 'spark-3.1.2'\n",
    "os.environ['SPARK_VERSION']=spark_version\n",
    "\n",
    "# Install Spark and Java\n",
    "!apt-get update\n",
    "!apt-get install openjdk-11-jdk-headless -qq > /dev/null\n",
    "!wget -q http://www-us.apache.org/dist/spark/$SPARK_VERSION/$SPARK_VERSION-bin-hadoop2.7.tgz\n",
    "!tar xf $SPARK_VERSION-bin-hadoop2.7.tgz\n",
    "!pip install -q findspark\n",
    "\n",
    "# Set Environment Variables\n",
    "import os\n",
    "os.environ[\"JAVA_HOME\"] = \"/usr/lib/jvm/java-11-openjdk-amd64\"\n",
    "os.environ[\"SPARK_HOME\"] = f\"/content/{spark_version}-bin-hadoop2.7\"\n",
    "\n",
    "# Start a SparkSession\n",
    "import findspark\n",
    "findspark.init()"
   ]
  },
  {
   "cell_type": "code",
   "execution_count": 2,
   "metadata": {
    "colab": {
     "base_uri": "https://localhost:8080/"
    },
    "id": "_xKwTpATHqSe",
    "outputId": "466a73ec-a1c0-4c9c-e56a-a7e84f60952e"
   },
   "outputs": [
    {
     "name": "stdout",
     "output_type": "stream",
     "text": [
      "--2021-06-14 00:44:23--  https://jdbc.postgresql.org/download/postgresql-42.2.16.jar\n",
      "Resolving jdbc.postgresql.org (jdbc.postgresql.org)... 72.32.157.228, 2001:4800:3e1:1::228\n",
      "Connecting to jdbc.postgresql.org (jdbc.postgresql.org)|72.32.157.228|:443... connected.\n",
      "HTTP request sent, awaiting response... 200 OK\n",
      "Length: 1002883 (979K) [application/java-archive]\n",
      "Saving to: ‘postgresql-42.2.16.jar’\n",
      "\n",
      "postgresql-42.2.16. 100%[===================>] 979.38K  --.-KB/s    in 0.1s    \n",
      "\n",
      "2021-06-14 00:44:23 (6.60 MB/s) - ‘postgresql-42.2.16.jar’ saved [1002883/1002883]\n",
      "\n"
     ]
    }
   ],
   "source": [
    "# Download the Postgres driver that will allow Spark to interact with Postgres.\n",
    "!wget https://jdbc.postgresql.org/download/postgresql-42.2.16.jar"
   ]
  },
  {
   "cell_type": "code",
   "execution_count": 3,
   "metadata": {
    "id": "MMqDAjVS0KN9"
   },
   "outputs": [],
   "source": [
    "from pyspark.sql import SparkSession\n",
    "spark = SparkSession.builder.appName(\"BigData-Challenge\").config(\"spark.driver.extraClassPath\",\"/content/postgresql-42.2.16.jar\").getOrCreate()"
   ]
  },
  {
   "cell_type": "markdown",
   "metadata": {
    "id": "cyBsySGuY-9V"
   },
   "source": [
    "### Load Amazon Data into Spark DataFrame"
   ]
  },
  {
   "cell_type": "code",
   "execution_count": 4,
   "metadata": {
    "colab": {
     "base_uri": "https://localhost:8080/"
    },
    "id": "CtCmBhQJY-9Z",
    "outputId": "2c9b27fa-2ba9-4a3b-8524-329459566f98"
   },
   "outputs": [
    {
     "name": "stdout",
     "output_type": "stream",
     "text": [
      "+-----------+-----------+--------------+----------+--------------+--------------------+----------------+-----------+-------------+-----------+----+-----------------+--------------------+--------------------+-----------+\n",
      "|marketplace|customer_id|     review_id|product_id|product_parent|       product_title|product_category|star_rating|helpful_votes|total_votes|vine|verified_purchase|     review_headline|         review_body|review_date|\n",
      "+-----------+-----------+--------------+----------+--------------+--------------------+----------------+-----------+-------------+-----------+----+-----------------+--------------------+--------------------+-----------+\n",
      "|         US|   50423057|R135Q3VZ4DQN5N|B00JWXFDMG|     657335467|Everbling Purple ...|         Jewelry|          5|            0|          0|   N|                Y|           Beauties!|so beautiful even...| 2015-08-31|\n",
      "|         US|   11262325|R2N0QQ6R4T7YRY|B00W5T1H9W|      26030170|925 Sterling Silv...|         Jewelry|          5|            0|          0|   N|                N|      Great product.|Great product.. I...| 2015-08-31|\n",
      "|         US|   27541121|R3N5JE5Y4T6W5M|B00M2L6KFY|     697845240|Sterling Silver C...|         Jewelry|          5|            0|          0|   N|                Y|Exactly as pictur...|Exactly as pictur...| 2015-08-31|\n",
      "|         US|    5350721|R2I150CX5IVY9Q|B0006SW2WU|     569859289|Surgical Stainles...|         Jewelry|          5|            0|          0|   N|                Y|          Five Stars|Love it. Fits gre...| 2015-08-31|\n",
      "|         US|   24484424|R1RM9ICOOA9MQ3|B009YPDW70|     332947422|Sterling Silver F...|         Jewelry|          5|            0|          0|   N|                Y|... a Mother's Da...|Got this as a Mot...| 2015-08-31|\n",
      "|         US|     457767|R2J2KMDL10UMSH|B00QGA8XZM|     424804582|CHOOSE YOUR COLOR...|         Jewelry|          5|            0|          0|   N|                Y|          Five Stars|I Love It Make Me...| 2015-08-31|\n",
      "|         US|   31009358|R3R9ZUFA4TB4FQ|B00L0N0E8E|     589441783|Metal Factory 925...|         Jewelry|          5|            0|          0|   N|                Y|          Five Stars|True to size, unique| 2015-08-31|\n",
      "|         US|    7034628|R3UQ8VAQN7R6WL|B00DMWQKWA|     517428445|niceEshop(TM)Clas...|         Jewelry|          5|            0|          0|   N|                Y|          Five Stars|This necklace is ...| 2015-08-31|\n",
      "|         US|   34608636|R1FXZ69C01JNQM|B00THLHAGA|     320313750|Genuine Natural B...|         Jewelry|          5|            0|          0|   N|                Y|          Five Stars|        just perfect| 2015-08-31|\n",
      "|         US|   44972687| RY36LB4OW0FFS|B00UXSEOHY|     589365488|MBOX Expandable A...|         Jewelry|          5|            0|          0|   N|                Y|          Five Stars|           Love it !| 2015-08-31|\n",
      "|         US|   16684508| R6PKS54PC6ZY2|B00XGRYGVS|     217045013|Set of 3 Nose Rin...|         Jewelry|          1|            4|          4|   N|                Y|I had high hopes ...|They didn't even ...| 2015-08-31|\n",
      "|         US|   23493178|R1LYSAH0IECVWB|B00AJ2VU8A|     972853757|3-row White A Gra...|         Jewelry|          5|            0|          0|   N|                Y|This is a real ni...|This is a real ni...| 2015-08-31|\n",
      "|         US|     108294|R1UN0IZI3XQ3E2|B00LE5Y100|     979375701|KONOV Mens Stainl...|         Jewelry|          5|            2|          3|   N|                Y|             AMAZING|This is a very co...| 2015-08-31|\n",
      "|         US|   25810742| RIKDXD8QGL99S|B013E0AOH6|     619592796|TEMEGO Jewelry Me...|         Jewelry|          5|            1|          1|   N|                Y|          Five Stars|Great quality for...| 2015-08-31|\n",
      "|         US|   12037665| RUZCQTXZVGUFH|B00XAWUP96|     783863439|Royal Blue/White ...|         Jewelry|          4|            1|          1|   N|                Y|A Little Smaller ...|I like the bracel...| 2015-08-31|\n",
      "|         US|   51793466|R35CD4IHO3RP9H|B00WD82F1O|     655270378|10-11mm Baroque F...|         Jewelry|          5|            1|          1|   N|                Y|Pretty and Versatile|This is pretty an...| 2015-08-31|\n",
      "|         US|     127508|R13YD66XC9221U|B00JP4XCSO|     592155747|Sankuwen® Fashion...|         Jewelry|          1|            0|          0|   N|                N|Don't get this li...|Don't get this li...| 2015-08-31|\n",
      "|         US|   38430946| RHWG4JRVDSEYY|B00PZSM384|     622179716|zjskin6688 store ...|         Jewelry|          3|            1|          1|   N|                Y|         Three Stars|Not what I expect...| 2015-08-31|\n",
      "|         US|   33684654|R3SPIKMJ5IWHX8|B00VLMW18K|      36759824|Scheppend Polymer...|         Jewelry|          4|            0|          0|   N|                Y|          Four Stars|Bought these for ...| 2015-08-31|\n",
      "|         US|    5068631| RS19ACU7KWWNE|B00U5LDBB4|     575109200|Horizontal Sidewa...|         Jewelry|          5|            1|          1|   N|                Y|          Five Stars|Pretty, and very ...| 2015-08-31|\n",
      "+-----------+-----------+--------------+----------+--------------+--------------------+----------------+-----------+-------------+-----------+----+-----------------+--------------------+--------------------+-----------+\n",
      "only showing top 20 rows\n",
      "\n"
     ]
    }
   ],
   "source": [
    "from pyspark import SparkFiles\n",
    "url = \"https://s3.amazonaws.com/amazon-reviews-pds/tsv/amazon_reviews_us_Jewelry_v1_00.tsv.gz\"\n",
    "spark.sparkContext.addFile(url)\n",
    "df = spark.read.option(\"encoding\", \"UTF-8\").csv(SparkFiles.get(\"\"), sep=\"\\t\", header=True, inferSchema=True)\n",
    "df.show()"
   ]
  },
  {
   "cell_type": "markdown",
   "metadata": {
    "id": "2yUSe55VY-9t"
   },
   "source": [
    "### Create DataFrames to match tables"
   ]
  },
  {
   "cell_type": "code",
   "execution_count": null,
   "metadata": {
    "id": "MkqyCuNQY-9-"
   },
   "outputs": [],
   "source": [
    "# Create the review_id_table DataFrame. \n",
    "# Convert the 'review_date' column to a date datatype with to_date(\"review_date\", 'yyyy-MM-dd').alias(\"review_date\")\n",
    "# review_id_df = df.select([, to_date(\"review_date\", 'yyyy-MM-dd').alias(\"review_date\")])\n",
    "#review_id_df = df.select([\"review_id\", \"customer_id\", \"product_id\", \"product_parent\", to_date(\"review_date\", 'yyyy-MM-dd').alias(\"review_date\")])\n",
    "#review_id_df.show()"
   ]
  },
  {
   "cell_type": "code",
   "execution_count": 5,
   "metadata": {
    "colab": {
     "base_uri": "https://localhost:8080/"
    },
    "id": "lzMmkdKmY--D",
    "outputId": "978677f8-5d36-4e8d-df28-ad0a0b858cc3"
   },
   "outputs": [
    {
     "name": "stdout",
     "output_type": "stream",
     "text": [
      "+--------------+-----------+-------------+-----------+----+-----------------+\n",
      "|     review_id|star_rating|helpful_votes|total_votes|vine|verified_purchase|\n",
      "+--------------+-----------+-------------+-----------+----+-----------------+\n",
      "|R135Q3VZ4DQN5N|          5|            0|          0|   N|                Y|\n",
      "|R2N0QQ6R4T7YRY|          5|            0|          0|   N|                N|\n",
      "|R3N5JE5Y4T6W5M|          5|            0|          0|   N|                Y|\n",
      "|R2I150CX5IVY9Q|          5|            0|          0|   N|                Y|\n",
      "|R1RM9ICOOA9MQ3|          5|            0|          0|   N|                Y|\n",
      "|R2J2KMDL10UMSH|          5|            0|          0|   N|                Y|\n",
      "|R3R9ZUFA4TB4FQ|          5|            0|          0|   N|                Y|\n",
      "|R3UQ8VAQN7R6WL|          5|            0|          0|   N|                Y|\n",
      "|R1FXZ69C01JNQM|          5|            0|          0|   N|                Y|\n",
      "| RY36LB4OW0FFS|          5|            0|          0|   N|                Y|\n",
      "| R6PKS54PC6ZY2|          1|            4|          4|   N|                Y|\n",
      "|R1LYSAH0IECVWB|          5|            0|          0|   N|                Y|\n",
      "|R1UN0IZI3XQ3E2|          5|            2|          3|   N|                Y|\n",
      "| RIKDXD8QGL99S|          5|            1|          1|   N|                Y|\n",
      "| RUZCQTXZVGUFH|          4|            1|          1|   N|                Y|\n",
      "|R35CD4IHO3RP9H|          5|            1|          1|   N|                Y|\n",
      "|R13YD66XC9221U|          1|            0|          0|   N|                N|\n",
      "| RHWG4JRVDSEYY|          3|            1|          1|   N|                Y|\n",
      "|R3SPIKMJ5IWHX8|          4|            0|          0|   N|                Y|\n",
      "| RS19ACU7KWWNE|          5|            1|          1|   N|                Y|\n",
      "+--------------+-----------+-------------+-----------+----+-----------------+\n",
      "only showing top 20 rows\n",
      "\n"
     ]
    }
   ],
   "source": [
    "# Create the vine_table. DataFrame\n",
    "# vine_df = df.select([])\n",
    "vine_df = df.select([\"review_id\", \"star_rating\", \"helpful_votes\", \"total_votes\",\"vine\", \"verified_purchase\"])\n",
    "vine_df.show()"
   ]
  },
  {
   "cell_type": "markdown",
   "metadata": {
    "id": "jITZhLkmY--J"
   },
   "source": [
    "### Delieverable 2"
   ]
  },
  {
   "cell_type": "code",
   "execution_count": 14,
   "metadata": {
    "colab": {
     "base_uri": "https://localhost:8080/"
    },
    "id": "Exuo6ebUsCqW",
    "outputId": "601140a5-5b62-43b2-e541-9c0c03e77972"
   },
   "outputs": [
    {
     "name": "stdout",
     "output_type": "stream",
     "text": [
      "+--------------+-----------+-------------+-----------+----+-----------------+\n",
      "|     review_id|star_rating|helpful_votes|total_votes|vine|verified_purchase|\n",
      "+--------------+-----------+-------------+-----------+----+-----------------+\n",
      "|R16YC6SMGKA8SR|          5|           23|         23|   N|                Y|\n",
      "| R5O4WE9UM60B0|          1|           29|         29|   N|                Y|\n",
      "|R2EKRVCRC7U0IY|          1|           22|         24|   N|                Y|\n",
      "|R2OKV47GETH0L7|          5|           24|         24|   N|                Y|\n",
      "| R36LII9IITE17|          1|           22|         24|   N|                Y|\n",
      "|R35VKNE16PFY0H|          5|           22|         24|   N|                N|\n",
      "|R3TG008LHHZZIN|          5|          123|        125|   N|                Y|\n",
      "|R2FYQBKCC1XG4M|          5|           20|         20|   N|                Y|\n",
      "| R63PV336NI5X7|          1|           27|         28|   N|                Y|\n",
      "|R1R42WPHB5ZSWI|          5|           51|         52|   N|                Y|\n",
      "| RXSS0QZJE1TEO|          1|           35|         35|   N|                Y|\n",
      "| RGS9C5XKWVYP9|          1|           24|         24|   N|                Y|\n",
      "|R3R5BWMKH1EUIQ|          5|           26|         27|   N|                N|\n",
      "|R2KBDT7RGO1G86|          3|           33|         39|   N|                Y|\n",
      "|R2WA09RFYT69GB|          5|           21|         22|   N|                Y|\n",
      "| RYNTUAMCHU3W4|          5|           22|         22|   N|                Y|\n",
      "|R3U5NCDM6NLHLC|          5|           29|         30|   N|                Y|\n",
      "| R8708W8U0Z89A|          2|           37|         38|   N|                Y|\n",
      "| RFT7R66D3SA54|          5|           23|         24|   N|                Y|\n",
      "|R1OI5TTOS49U8R|          5|           33|         34|   N|                Y|\n",
      "+--------------+-----------+-------------+-----------+----+-----------------+\n",
      "only showing top 20 rows\n",
      "\n"
     ]
    }
   ],
   "source": [
    "# Filter the data and create a new DataFrame or table to retrieve all the rows where the total_votes count is equal to or greater than 20 \n",
    "#cv_df = vine_df.filter(vine_df.total_votes >= \"20\").show()\n",
    "cv_df = vine_df.filter(vine_df.total_votes >= \"20\")\n",
    "cv_df.show()"
   ]
  },
  {
   "cell_type": "code",
   "execution_count": 16,
   "metadata": {
    "colab": {
     "base_uri": "https://localhost:8080/"
    },
    "id": "k7_P86ooRuKD",
    "outputId": "58f35aa3-d740-41a0-d881-fdd45e384039"
   },
   "outputs": [
    {
     "name": "stdout",
     "output_type": "stream",
     "text": [
      "+--------------+-----------+-------------+-----------+----+-----------------+\n",
      "|     review_id|star_rating|helpful_votes|total_votes|vine|verified_purchase|\n",
      "+--------------+-----------+-------------+-----------+----+-----------------+\n",
      "|R16YC6SMGKA8SR|          5|           23|         23|   N|                Y|\n",
      "| R5O4WE9UM60B0|          1|           29|         29|   N|                Y|\n",
      "|R2EKRVCRC7U0IY|          1|           22|         24|   N|                Y|\n",
      "|R2OKV47GETH0L7|          5|           24|         24|   N|                Y|\n",
      "| R36LII9IITE17|          1|           22|         24|   N|                Y|\n",
      "|R35VKNE16PFY0H|          5|           22|         24|   N|                N|\n",
      "|R3TG008LHHZZIN|          5|          123|        125|   N|                Y|\n",
      "|R2FYQBKCC1XG4M|          5|           20|         20|   N|                Y|\n",
      "| R63PV336NI5X7|          1|           27|         28|   N|                Y|\n",
      "|R1R42WPHB5ZSWI|          5|           51|         52|   N|                Y|\n",
      "| RXSS0QZJE1TEO|          1|           35|         35|   N|                Y|\n",
      "| RGS9C5XKWVYP9|          1|           24|         24|   N|                Y|\n",
      "|R3R5BWMKH1EUIQ|          5|           26|         27|   N|                N|\n",
      "|R2KBDT7RGO1G86|          3|           33|         39|   N|                Y|\n",
      "|R2WA09RFYT69GB|          5|           21|         22|   N|                Y|\n",
      "| RYNTUAMCHU3W4|          5|           22|         22|   N|                Y|\n",
      "|R3U5NCDM6NLHLC|          5|           29|         30|   N|                Y|\n",
      "| R8708W8U0Z89A|          2|           37|         38|   N|                Y|\n",
      "| RFT7R66D3SA54|          5|           23|         24|   N|                Y|\n",
      "|R1OI5TTOS49U8R|          5|           33|         34|   N|                Y|\n",
      "+--------------+-----------+-------------+-----------+----+-----------------+\n",
      "only showing top 20 rows\n",
      "\n"
     ]
    }
   ],
   "source": [
    "from pyspark.sql.functions import *\n",
    "# Filter the new DataFrame or table created in Step 1 and create a new DataFrame or table to retrieve all the rows where the number of helpful_votes divided by total_votes is equal to or greater than 50%\n",
    "vd_df = cv_df.filter((cv_df.helpful_votes/cv_df.total_votes) >= \"0.5\")\n",
    "vd_df.show()"
   ]
  },
  {
   "cell_type": "code",
   "execution_count": 17,
   "metadata": {
    "colab": {
     "base_uri": "https://localhost:8080/"
    },
    "id": "0cGYz4-GRt_h",
    "outputId": "e325d94f-0c8c-4afa-c1a3-6eba10f25dff"
   },
   "outputs": [
    {
     "name": "stdout",
     "output_type": "stream",
     "text": [
      "+--------------+-----------+-------------+-----------+----+-----------------+\n",
      "|     review_id|star_rating|helpful_votes|total_votes|vine|verified_purchase|\n",
      "+--------------+-----------+-------------+-----------+----+-----------------+\n",
      "|R15PXA9XU9ZKSU|          4|           29|         29|   Y|                N|\n",
      "|R2LJ4QYQ4PYDEH|          5|           24|         26|   Y|                N|\n",
      "|R2PJWWQZ37WCIC|          5|           95|         96|   Y|                N|\n",
      "|R33G2VDKRN2USY|          5|           21|         21|   Y|                N|\n",
      "|R13R4X37T2U50A|          4|           52|         57|   Y|                N|\n",
      "|R1X1J2NAQ39DF6|          4|           29|         34|   Y|                N|\n",
      "|R2UV5XHFNMPXOX|          5|           60|         61|   Y|                N|\n",
      "|R31V08BCC9X3MF|          5|           18|         22|   Y|                N|\n",
      "|R2G00QWTYW9N2G|          5|           86|         91|   Y|                N|\n",
      "| RL8H3NKKP989J|          5|           30|         34|   Y|                N|\n",
      "| RZ65QBOJ8ZNRN|          4|           19|         22|   Y|                N|\n",
      "| RDZBWH5MFEQY1|          5|           18|         22|   Y|                N|\n",
      "|R24SU7KP57HE8L|          4|           25|         26|   Y|                N|\n",
      "| RV3V9VIC29R8S|          2|           66|         68|   Y|                N|\n",
      "|R31AR3XSFSHY1B|          4|           33|         35|   Y|                N|\n",
      "|R3VWAKQ4JXGE55|          5|           33|         34|   Y|                N|\n",
      "| RNZ2BP0EHN7IK|          5|           20|         20|   Y|                N|\n",
      "| RXKITVQ3MN3PS|          4|           22|         23|   Y|                N|\n",
      "|R3TZE1OYDVZPRD|          5|           23|         24|   Y|                N|\n",
      "|R3FO353G2ET17M|          4|           23|         24|   Y|                N|\n",
      "+--------------+-----------+-------------+-----------+----+-----------------+\n",
      "only showing top 20 rows\n",
      "\n"
     ]
    }
   ],
   "source": [
    "# Filter the DataFrame or table created in Step 2, and create a new DataFrame or table that retrieves all the rows where a review was written as part of the Vine program (paid), vine == 'Y'\n",
    "paid_df = vd_df.filter(vd_df.vine ==\"Y\")\n",
    "paid_df.show()"
   ]
  },
  {
   "cell_type": "code",
   "execution_count": 18,
   "metadata": {
    "colab": {
     "base_uri": "https://localhost:8080/"
    },
    "id": "_JMm256rRtyI",
    "outputId": "2fff0ea9-b69f-432d-b0b1-3a77078928c9"
   },
   "outputs": [
    {
     "name": "stdout",
     "output_type": "stream",
     "text": [
      "+--------------+-----------+-------------+-----------+----+-----------------+\n",
      "|     review_id|star_rating|helpful_votes|total_votes|vine|verified_purchase|\n",
      "+--------------+-----------+-------------+-----------+----+-----------------+\n",
      "|R16YC6SMGKA8SR|          5|           23|         23|   N|                Y|\n",
      "| R5O4WE9UM60B0|          1|           29|         29|   N|                Y|\n",
      "|R2EKRVCRC7U0IY|          1|           22|         24|   N|                Y|\n",
      "|R2OKV47GETH0L7|          5|           24|         24|   N|                Y|\n",
      "| R36LII9IITE17|          1|           22|         24|   N|                Y|\n",
      "|R35VKNE16PFY0H|          5|           22|         24|   N|                N|\n",
      "|R3TG008LHHZZIN|          5|          123|        125|   N|                Y|\n",
      "|R2FYQBKCC1XG4M|          5|           20|         20|   N|                Y|\n",
      "| R63PV336NI5X7|          1|           27|         28|   N|                Y|\n",
      "|R1R42WPHB5ZSWI|          5|           51|         52|   N|                Y|\n",
      "| RXSS0QZJE1TEO|          1|           35|         35|   N|                Y|\n",
      "| RGS9C5XKWVYP9|          1|           24|         24|   N|                Y|\n",
      "|R3R5BWMKH1EUIQ|          5|           26|         27|   N|                N|\n",
      "|R2KBDT7RGO1G86|          3|           33|         39|   N|                Y|\n",
      "|R2WA09RFYT69GB|          5|           21|         22|   N|                Y|\n",
      "| RYNTUAMCHU3W4|          5|           22|         22|   N|                Y|\n",
      "|R3U5NCDM6NLHLC|          5|           29|         30|   N|                Y|\n",
      "| R8708W8U0Z89A|          2|           37|         38|   N|                Y|\n",
      "| RFT7R66D3SA54|          5|           23|         24|   N|                Y|\n",
      "|R1OI5TTOS49U8R|          5|           33|         34|   N|                Y|\n",
      "+--------------+-----------+-------------+-----------+----+-----------------+\n",
      "only showing top 20 rows\n",
      "\n"
     ]
    }
   ],
   "source": [
    "# Repeat Step 3, but this time retrieve all the rows where the review was not part of the Vine program (unpaid), vine == 'N'\n",
    "unpaid_df = vd_df.filter(vd_df.vine ==\"N\")\n",
    "unpaid_df.show()"
   ]
  },
  {
   "cell_type": "code",
   "execution_count": 20,
   "metadata": {
    "colab": {
     "base_uri": "https://localhost:8080/"
    },
    "id": "wgtLjAbYSrCs",
    "outputId": "2698bec3-edef-4e48-c409-4ab3a01830c7"
   },
   "outputs": [
    {
     "data": {
      "text/plain": [
       "21"
      ]
     },
     "execution_count": 20,
     "metadata": {
      "tags": []
     },
     "output_type": "execute_result"
    }
   ],
   "source": [
    "# Determine the total number of reviews, the number of 5-star reviews, and the percentage of 5-star reviews for the two types of review (paid vs unpaid).\n",
    "total_paid = paid_df.count()\n",
    "total_paid"
   ]
  },
  {
   "cell_type": "code",
   "execution_count": 21,
   "metadata": {
    "colab": {
     "base_uri": "https://localhost:8080/"
    },
    "id": "MH1yId9VlkuM",
    "outputId": "f00e529e-9cf6-4271-c4de-fde4bff516de"
   },
   "outputs": [
    {
     "data": {
      "text/plain": [
       "7689"
      ]
     },
     "execution_count": 21,
     "metadata": {
      "tags": []
     },
     "output_type": "execute_result"
    }
   ],
   "source": [
    "total_unpaid = unpaid_df.count()\n",
    "total_unpaid"
   ]
  },
  {
   "cell_type": "code",
   "execution_count": 22,
   "metadata": {
    "colab": {
     "base_uri": "https://localhost:8080/"
    },
    "id": "hwmeb905l-7g",
    "outputId": "256738d9-14d5-4d93-8735-9d2d886f63a9"
   },
   "outputs": [
    {
     "data": {
      "text/plain": [
       "11"
      ]
     },
     "execution_count": 22,
     "metadata": {
      "tags": []
     },
     "output_type": "execute_result"
    }
   ],
   "source": [
    "fivestar_paid = paid_df.filter(paid_df.star_rating == 5).count()\n",
    "fivestar_paid"
   ]
  },
  {
   "cell_type": "code",
   "execution_count": 23,
   "metadata": {
    "colab": {
     "base_uri": "https://localhost:8080/"
    },
    "id": "NrP-A512l74B",
    "outputId": "cacc827d-1c1f-4a2e-f7a8-d230bc1b2c78"
   },
   "outputs": [
    {
     "data": {
      "text/plain": [
       "4444"
      ]
     },
     "execution_count": 23,
     "metadata": {
      "tags": []
     },
     "output_type": "execute_result"
    }
   ],
   "source": [
    "fivestar_unpaid = unpaid_df.filter(unpaid_df.star_rating == 5).count()\n",
    "fivestar_unpaid"
   ]
  },
  {
   "cell_type": "code",
   "execution_count": 24,
   "metadata": {
    "colab": {
     "base_uri": "https://localhost:8080/"
    },
    "id": "2iIIioZumoZk",
    "outputId": "bbd98745-32b2-4375-e335-55b212f6c902"
   },
   "outputs": [
    {
     "data": {
      "text/plain": [
       "52.38095238095239"
      ]
     },
     "execution_count": 24,
     "metadata": {
      "tags": []
     },
     "output_type": "execute_result"
    }
   ],
   "source": [
    "paid_percent = (fivestar_paid/total_paid)*100\n",
    "paid_percent"
   ]
  },
  {
   "cell_type": "code",
   "execution_count": 25,
   "metadata": {
    "colab": {
     "base_uri": "https://localhost:8080/"
    },
    "id": "wqf3AaeWmiEE",
    "outputId": "ce9136d0-4c11-48d3-d379-1d5aa6b75e6c"
   },
   "outputs": [
    {
     "data": {
      "text/plain": [
       "57.79685264663805"
      ]
     },
     "execution_count": 25,
     "metadata": {
      "tags": []
     },
     "output_type": "execute_result"
    }
   ],
   "source": [
    "unpaid_percent = (fivestar_unpaid/total_unpaid)*100\n",
    "unpaid_percent"
   ]
  }
 ],
 "metadata": {
  "colab": {
   "collapsed_sections": [],
   "name": "Vine_Review_Analysis.ipynb",
   "provenance": []
  },
  "kernelspec": {
   "display_name": "PythonData",
   "language": "python",
   "name": "pythondata"
  },
  "language_info": {
   "codemirror_mode": {
    "name": "ipython",
    "version": 3
   },
   "file_extension": ".py",
   "mimetype": "text/x-python",
   "name": "python",
   "nbconvert_exporter": "python",
   "pygments_lexer": "ipython3",
   "version": "3.8.5"
  },
  "nteract": {
   "version": "0.12.3"
  }
 },
 "nbformat": 4,
 "nbformat_minor": 1
}
